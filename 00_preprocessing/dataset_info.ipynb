{
 "cells": [
  {
   "cell_type": "code",
   "execution_count": null,
   "metadata": {},
   "outputs": [],
   "source": [
    "import os\n",
    "import json\n",
    "import sys\n",
    "import sqlite3\n",
    "\n",
    "RAW_APK_FOLDER = \"./apks.json\" # This is the folder where the raw APKs (downloaded from the Play Store) are stored\n",
    "DB = \"\" # This is the path to the SQLite database that contains the information about the apps\n",
    "\n",
    "def read_db_package_names(db_file):\n",
    "    \"\"\"\n",
    "        Reads the SQLite database and selects all apps that have at least 1M installs\n",
    "    \"\"\"\n",
    "    conn = sqlite3.connect(db_file)\n",
    "    c = conn.cursor()\n",
    "    c.execute(\"SELECT appId FROM app WHERE minInstall >= 1000000\")\n",
    "    results = c.fetchall()\n",
    "    conn.close()\n",
    "    results = [i[0] for i in results]\n",
    "    return results\n",
    "\n",
    "    \n",
    "    \n",
    "all_files = os.listdir(RAW_APK_FOLDER)\n",
    "amount_all_files = len(all_files)\n",
    "package_names = read_db_package_names(DB)\n",
    "print(\"Found \" + str(len(package_names)) + \" packages in the database.\")\n",
    "\n",
    "split_apks = []\n",
    "single_apk = []\n",
    "no_apk = []\n",
    "\n",
    "for i in range(0, len(package_names)):\n",
    "        \n",
    "    progress = i / len(package_names)\n",
    "    bar_length = 20\n",
    "    block = int(round(bar_length * progress))\n",
    "    text = \"\\rProgress: [{0}] {1:.1f}%\".format(\"#\" * block + \"-\" * (bar_length - block), progress * 100)\n",
    "    sys.stdout.write(text)\n",
    "    sys.stdout.flush()\n",
    "\n",
    "    package_name = package_names[i]\n",
    "\n",
    "    results = [i for i in all_files if (i.startswith(package_name + \".split.\") and i.endswith(\".zip\")) or i == package_name + \".apk\"]\n",
    "    if (len(results) > 1):\n",
    "        split_apks.append((package_name, len(results)))\n",
    "    elif len(results) == 1:\n",
    "        single_apk.append(package_name)\n",
    "    else:\n",
    "        no_apk.append(package_name)"
   ]
  }
 ],
 "metadata": {
  "language_info": {
   "name": "python"
  }
 },
 "nbformat": 4,
 "nbformat_minor": 2
}
